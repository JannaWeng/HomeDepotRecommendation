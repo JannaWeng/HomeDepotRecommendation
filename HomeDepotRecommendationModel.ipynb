{
 "cells": [
  {
   "cell_type": "code",
   "execution_count": 1,
   "metadata": {},
   "outputs": [],
   "source": [
    "import numpy as np\n",
    "import pandas as pd\n",
    "import matplotlib.pyplot as plt\n",
    "\n",
    "# %matplotlib inline\n",
    "plt.style.use(\"ggplot\")\n",
    "\n",
    "import sklearn\n",
    "from sklearn.feature_extraction.text import TfidfVectorizer, CountVectorizer\n",
    "from sklearn.neighbors import NearestNeighbors\n",
    "from sklearn.cluster import KMeans\n",
    "from sklearn.metrics import adjusted_rand_score"
   ]
  },
  {
   "cell_type": "code",
   "execution_count": 2,
   "metadata": {},
   "outputs": [
    {
     "data": {
      "text/plain": [
       "(124428, 2)"
      ]
     },
     "execution_count": 2,
     "metadata": {},
     "output_type": "execute_result"
    }
   ],
   "source": [
    "homedepot = pd.read_csv(r'...\\product_descriptions.csv')\n",
    "homedepot.shape"
   ]
  },
  {
   "cell_type": "code",
   "execution_count": 3,
   "metadata": {},
   "outputs": [
    {
     "name": "stdout",
     "output_type": "stream",
     "text": [
      "(124428, 2)\n"
     ]
    },
    {
     "data": {
      "text/html": [
       "<div>\n",
       "<style scoped>\n",
       "    .dataframe tbody tr th:only-of-type {\n",
       "        vertical-align: middle;\n",
       "    }\n",
       "\n",
       "    .dataframe tbody tr th {\n",
       "        vertical-align: top;\n",
       "    }\n",
       "\n",
       "    .dataframe thead th {\n",
       "        text-align: right;\n",
       "    }\n",
       "</style>\n",
       "<table border=\"1\" class=\"dataframe\">\n",
       "  <thead>\n",
       "    <tr style=\"text-align: right;\">\n",
       "      <th></th>\n",
       "      <th>product_uid</th>\n",
       "      <th>product_description</th>\n",
       "    </tr>\n",
       "  </thead>\n",
       "  <tbody>\n",
       "    <tr>\n",
       "      <th>0</th>\n",
       "      <td>100001</td>\n",
       "      <td>Not only do angles make joints stronger, they ...</td>\n",
       "    </tr>\n",
       "    <tr>\n",
       "      <th>1</th>\n",
       "      <td>100002</td>\n",
       "      <td>BEHR Premium Textured DECKOVER is an innovativ...</td>\n",
       "    </tr>\n",
       "    <tr>\n",
       "      <th>2</th>\n",
       "      <td>100003</td>\n",
       "      <td>Classic architecture meets contemporary design...</td>\n",
       "    </tr>\n",
       "    <tr>\n",
       "      <th>3</th>\n",
       "      <td>100004</td>\n",
       "      <td>The Grape Solar 265-Watt Polycrystalline PV So...</td>\n",
       "    </tr>\n",
       "    <tr>\n",
       "      <th>4</th>\n",
       "      <td>100005</td>\n",
       "      <td>Update your bathroom with the Delta Vero Singl...</td>\n",
       "    </tr>\n",
       "  </tbody>\n",
       "</table>\n",
       "</div>"
      ],
      "text/plain": [
       "   product_uid                                product_description\n",
       "0       100001  Not only do angles make joints stronger, they ...\n",
       "1       100002  BEHR Premium Textured DECKOVER is an innovativ...\n",
       "2       100003  Classic architecture meets contemporary design...\n",
       "3       100004  The Grape Solar 265-Watt Polycrystalline PV So...\n",
       "4       100005  Update your bathroom with the Delta Vero Singl..."
      ]
     },
     "execution_count": 3,
     "metadata": {},
     "output_type": "execute_result"
    }
   ],
   "source": [
    "homedepot = homedepot.dropna()\n",
    "print(homedepot.shape)\n",
    "homedepot.head()"
   ]
  },
  {
   "cell_type": "code",
   "execution_count": 4,
   "metadata": {},
   "outputs": [
    {
     "data": {
      "text/plain": [
       "0    Not only do angles make joints stronger, they ...\n",
       "1    BEHR Premium Textured DECKOVER is an innovativ...\n",
       "2    Classic architecture meets contemporary design...\n",
       "3    The Grape Solar 265-Watt Polycrystalline PV So...\n",
       "4    Update your bathroom with the Delta Vero Singl...\n",
       "5    Achieving delicious results is almost effortle...\n",
       "6    The Quantum Adjustable 2-Light LED Black Emerg...\n",
       "7    The Teks #10 x 1-1/2 in. Zinc-Plated Steel Was...\n",
       "8    Get the House of Fara 3/4 in. x 3 in. x 8 ft. ...\n",
       "9    Valley View Industries Metal Stakes (4-Pack) a...\n",
       "Name: product_description, dtype: object"
      ]
     },
     "execution_count": 4,
     "metadata": {},
     "output_type": "execute_result"
    }
   ],
   "source": [
    "product_descriptions1 = homedepot.head(500)\n",
    "product_descriptions1[\"product_description\"].head(10)"
   ]
  },
  {
   "cell_type": "code",
   "execution_count": 5,
   "metadata": {},
   "outputs": [
    {
     "data": {
      "text/plain": [
       "<500x8932 sparse matrix of type '<class 'numpy.float64'>'\n",
       "\twith 34817 stored elements in Compressed Sparse Row format>"
      ]
     },
     "execution_count": 5,
     "metadata": {},
     "output_type": "execute_result"
    }
   ],
   "source": [
    "vectorizer = TfidfVectorizer(stop_words='english')\n",
    "X1 = vectorizer.fit_transform(product_descriptions1[\"product_description\"])\n",
    "X1"
   ]
  },
  {
   "cell_type": "code",
   "execution_count": 6,
   "metadata": {},
   "outputs": [
    {
     "data": {
      "image/png": "[encoded data removed]",
      "text/plain": [
       "<Figure size 432x288 with 1 Axes>"
      ]
     },
     "metadata": {},
     "output_type": "display_data"
    }
   ],
   "source": [
    "X=X1\n",
    "\n",
    "kmeans = KMeans(n_clusters = 10, init = 'k-means++')\n",
    "y_kmeans = kmeans.fit_predict(X)\n",
    "plt.plot(y_kmeans, \".\")\n",
    "plt.show()"
   ]
  },
  {
   "cell_type": "code",
   "execution_count": 7,
   "metadata": {},
   "outputs": [],
   "source": [
    "def print_cluster(i):\n",
    "    print(\"Cluster %d:\" % i),\n",
    "    for ind in order_centroids[i, :10]:\n",
    "        print(' %s' % terms[ind]),\n",
    "    print"
   ]
  },
  {
   "cell_type": "code",
   "execution_count": 13,
   "metadata": {},
   "outputs": [
    {
     "name": "stdout",
     "output_type": "stream",
     "text": [
      "Top terms per cluster:\n",
      "Cluster 0:\n",
      " plants\n",
      " trees\n",
      " gro\n",
      " miracle\n",
      " popcorn\n",
      " stake\n",
      " mixing\n",
      " measuring\n",
      " container\n",
      " potting\n",
      "Cluster 1:\n",
      " water\n",
      " air\n",
      " heater\n",
      " toilet\n",
      " tank\n",
      " easy\n",
      " use\n",
      " cooling\n",
      " installation\n",
      " valve\n",
      "Cluster 2:\n",
      " wood\n",
      " tile\n",
      " floor\n",
      " resistant\n",
      " vinyl\n",
      " dog\n",
      " use\n",
      " natural\n",
      " finish\n",
      " planks\n",
      "Cluster 3:\n",
      " bamboo\n",
      " window\n",
      " shades\n",
      " natural\n",
      " shade\n",
      " canopy\n",
      " size\n",
      " mount\n",
      " windows\n",
      " blind\n",
      "Cluster 4:\n",
      " volt\n",
      " m12\n",
      " battery\n",
      " wall\n",
      " lithium\n",
      " ion\n",
      " clock\n",
      " 20\n",
      " compact\n",
      " max\n",
      "Cluster 5:\n",
      " steel\n",
      " cement\n",
      " metal\n",
      " gauge\n",
      " plated\n",
      " screw\n",
      " use\n",
      " concrete\n",
      " pre\n",
      " screws\n",
      "Cluster 6:\n",
      " cycle\n",
      " oven\n",
      " cooking\n",
      " wash\n",
      " steam\n",
      " cu\n",
      " drum\n",
      " azek\n",
      " dryer\n",
      " large\n",
      "Cluster 7:\n",
      " vanity\n",
      " paint\n",
      " finish\n",
      " doors\n",
      " finished\n",
      " using\n",
      " board\n",
      " 24\n",
      " mirror\n",
      " faucet\n",
      "Cluster 8:\n",
      " landscape\n",
      " post\n",
      " lumber\n",
      " rot\n",
      " outdoor\n",
      " treated\n",
      " projects\n",
      " decks\n",
      " used\n",
      " wood\n",
      "Cluster 9:\n",
      " storage\n",
      " shelves\n",
      " wall\n",
      " door\n",
      " cabinet\n",
      " room\n",
      " finish\n",
      " adjustable\n",
      " shelf\n",
      " design\n",
      "Cluster 10:\n",
      " door\n",
      " proposition\n",
      " nbsp\n",
      " residents\n",
      " california\n",
      " 65\n",
      " painted\n",
      " moulding\n",
      " primed\n",
      " wood\n",
      "Cluster 11:\n",
      " light\n",
      " led\n",
      " watt\n",
      " power\n",
      " volt\n",
      " bulbs\n",
      " lighting\n",
      " fixture\n",
      " leds\n",
      " energy\n",
      "Cluster 12:\n",
      " tape\n",
      " film\n",
      " painting\n",
      " brush\n",
      " shrink\n",
      " scotch\n",
      " masking\n",
      " surfaces\n",
      " window\n",
      " adhesion\n",
      "Cluster 13:\n",
      " insulation\n",
      " ladder\n",
      " cover\n",
      " attic\n",
      " frame\n",
      " roller\n",
      " aluminum\n",
      " radiant\n",
      " fiberglass\n",
      " box\n",
      "Cluster 14:\n",
      " rug\n",
      " slightly\n",
      " vary\n",
      " dimensions\n",
      " patterns\n",
      " designs\n",
      " stakes\n",
      " colors\n",
      " clay\n",
      " order\n",
      "Cluster 15:\n",
      " cutting\n",
      " pruner\n",
      " blade\n",
      " tooth\n",
      " steel\n",
      " saw\n",
      " pole\n",
      " blades\n",
      " pruning\n",
      " design\n",
      "Cluster 16:\n",
      " patio\n",
      " frame\n",
      " dining\n",
      " collection\n",
      " rust\n",
      " steel\n",
      " cushions\n",
      " resin\n",
      " wicker\n",
      " outdoor\n",
      "Cluster 17:\n",
      " fan\n",
      " ceiling\n",
      " light\n",
      " nickel\n",
      " brushed\n",
      " dust\n",
      " guide\n",
      " help\n",
      " home\n",
      " hampton\n",
      "Cluster 18:\n",
      " tool\n",
      " grip\n",
      " free\n",
      " impact\n",
      " work\n",
      " stake\n",
      " torque\n",
      " easy\n",
      " speed\n",
      " handle\n",
      "Cluster 19:\n",
      " watering\n",
      " leaks\n",
      " water\n",
      " plants\n",
      " easy\n",
      " piece\n",
      " spray\n",
      " seal\n",
      " leakseal\n",
      " metal\n"
     ]
    }
   ],
   "source": [
    "true_k = 20\n",
    "\n",
    "model = KMeans(n_clusters=true_k, init='k-means++', max_iter=100, n_init=1)\n",
    "model.fit(X1)\n",
    "\n",
    "print(\"Top terms per cluster:\")\n",
    "order_centroids = model.cluster_centers_.argsort()[:, ::-1]\n",
    "terms = vectorizer.get_feature_names()\n",
    "for i in range(true_k):\n",
    "    print_cluster(i)"
   ]
  },
  {
   "cell_type": "code",
   "execution_count": 9,
   "metadata": {},
   "outputs": [],
   "source": [
    "def show_recommendations(product):\n",
    "    #print(\"Cluster ID:\")\n",
    "    Y = vectorizer.transform([product])\n",
    "    prediction = model.predict(Y)\n",
    "    #print(prediction)\n",
    "    print_cluster(prediction[0])"
   ]
  },
  {
   "cell_type": "code",
   "execution_count": 10,
   "metadata": {},
   "outputs": [
    {
     "name": "stdout",
     "output_type": "stream",
     "text": [
      "Cluster 4:\n",
      " cutting\n",
      " tool\n",
      " power\n",
      " volt\n",
      " blade\n",
      " saw\n",
      " battery\n",
      " lithium\n",
      " easy\n",
      " features\n"
     ]
    }
   ],
   "source": [
    "show_recommendations(\"cutting tool\")"
   ]
  },
  {
   "cell_type": "code",
   "execution_count": 11,
   "metadata": {},
   "outputs": [
    {
     "name": "stdout",
     "output_type": "stream",
     "text": [
      "Cluster 0:\n",
      " paint\n",
      " wash\n",
      " cycle\n",
      " projects\n",
      " used\n",
      " dryer\n",
      " brush\n",
      " water\n",
      " clothes\n",
      " dry\n"
     ]
    }
   ],
   "source": [
    "show_recommendations(\"spray paint\")"
   ]
  },
  {
   "cell_type": "code",
   "execution_count": 12,
   "metadata": {},
   "outputs": [
    {
     "name": "stdout",
     "output_type": "stream",
     "text": [
      "Cluster 2:\n",
      " water\n",
      " insulation\n",
      " heater\n",
      " easy\n",
      " helps\n",
      " use\n",
      " fiberglass\n",
      " tape\n",
      " gas\n",
      " valve\n"
     ]
    }
   ],
   "source": [
    "show_recommendations(\"water\")"
   ]
  }
 ],
 "metadata": {
  "kernelspec": {
   "display_name": "Python 3 (ipykernel)",
   "language": "python",
   "name": "python3"
  },
  "language_info": {
   "codemirror_mode": {
    "name": "ipython",
    "version": 3
   },
   "file_extension": ".py",
   "mimetype": "text/x-python",
   "name": "python",
   "nbconvert_exporter": "python",
   "pygments_lexer": "ipython3",
   "version": "3.7.11"
  }
 },
 "nbformat": 4,
 "nbformat_minor": 4
}
